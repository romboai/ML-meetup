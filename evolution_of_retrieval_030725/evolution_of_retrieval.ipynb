{
 "cells": [
  {
   "cell_type": "markdown",
   "id": "5bd41af4",
   "metadata": {},
   "source": [
    "## Indice\n",
    "\n",
    "1. [Bag-of-Words con TF-IDF / BM25]()  \n",
    "2. [PageRank e segnali di autorità]()  \n",
    "3. [LDA – Latent Dirichlet Allocation]()  \n",
    "4. [Word Embeddings statici]()  \n",
    "5. [BERT ed embeddings contestuali]()  \n",
    "6. [Dense Retrieval (DPR)]()  \n",
    "7. [BGE-M3 (2024)]()  \n",
    "8. [RAG – Retrieval Augmented Generation]()"
   ]
  },
  {
   "cell_type": "markdown",
   "id": "3fdfd2a8",
   "metadata": {},
   "source": [
    "## Dataset"
   ]
  },
  {
   "cell_type": "markdown",
   "id": "bc136bb8",
   "metadata": {},
   "source": [
    "<p style=\"text-align:center;\">\n",
    "  <img src=\"img/data_set.png\" alt=\"bm25\" width=\"700\">\n",
    "</p>"
   ]
  },
  {
   "cell_type": "code",
   "execution_count": 1,
   "id": "e260c4e1",
   "metadata": {},
   "outputs": [],
   "source": [
    "import numpy as np\n",
    "from nltk.corpus import stopwords\n",
    "from tqdm import tqdm\n",
    "from nltk.tokenize import word_tokenize\n",
    "from sklearn.feature_extraction.text import TfidfVectorizer\n",
    "import time\n",
    "from rank_bm25 import BM25Okapi\n",
    "from sklearn.preprocessing import normalize"
   ]
  },
  {
   "cell_type": "code",
   "execution_count": 2,
   "id": "1e74552f",
   "metadata": {},
   "outputs": [
    {
     "name": "stdout",
     "output_type": "stream",
     "text": [
      "Loaded 14049 paragraphs in 'sc'\n",
      "Loaded 2677 questions\n"
     ]
    }
   ],
   "source": [
    "from data_io import load_paragraphs, load_questions\n",
    "from metrics import eval_retriever\n",
    "\n",
    "df_para = load_paragraphs()\n",
    "df_q_sc = load_questions()"
   ]
  },
  {
   "cell_type": "code",
   "execution_count": 3,
   "id": "d500bbe2",
   "metadata": {},
   "outputs": [
    {
     "name": "stderr",
     "output_type": "stream",
     "text": [
      "[nltk_data] Downloading package punkt to /home/matmat/nltk_data...\n",
      "[nltk_data]   Package punkt is already up-to-date!\n",
      "[nltk_data] Downloading package punkt_tab to /home/matmat/nltk_data...\n",
      "[nltk_data]   Package punkt_tab is already up-to-date!\n",
      "[nltk_data] Downloading package stopwords to /home/matmat/nltk_data...\n",
      "[nltk_data]   Package stopwords is already up-to-date!\n"
     ]
    }
   ],
   "source": [
    "import nltk\n",
    "nltk.download(\"punkt\")\n",
    "nltk.download(\"punkt_tab\")\n",
    "nltk.download(\"stopwords\")\n",
    "STOP_IT = set(stopwords.words(\"italian\")) # non ho stopword in sardo\n",
    "\n",
    "def preprocess(text: str) -> list[str]:\n",
    "    \"\"\"Light tokenisation + lower-casing + stop-word removal.\n",
    "    \n",
    "    Args:\n",
    "        text: Raw input string.\n",
    "    \n",
    "    Returns:\n",
    "        List of tokens.\n",
    "    \"\"\"\n",
    "    tokens = word_tokenize(text.lower())\n",
    "    return [t for t in tokens if t.isalpha() and t not in STOP_IT]"
   ]
  },
  {
   "cell_type": "code",
   "execution_count": 4,
   "id": "8e6ac4df",
   "metadata": {},
   "outputs": [
    {
     "name": "stderr",
     "output_type": "stream",
     "text": [
      "Tokenising:   5%|▌         | 251/4772 [00:00<00:04, 1011.61it/s]"
     ]
    },
    {
     "name": "stderr",
     "output_type": "stream",
     "text": [
      "Tokenising: 100%|██████████| 4772/4772 [00:02<00:00, 2160.34it/s]\n"
     ]
    }
   ],
   "source": [
    "df_para_dedup = df_para.drop_duplicates(subset=\"text\").reset_index(drop=True)\n",
    "corpus = df_para_dedup[\"text\"]\n",
    "token_corpus = [preprocess(t) for t in tqdm(corpus, desc=\"Tokenising\")]"
   ]
  },
  {
   "cell_type": "markdown",
   "id": "eea57a5d",
   "metadata": {},
   "source": [
    "## Tf-idf"
   ]
  },
  {
   "cell_type": "markdown",
   "id": "4e2cd821",
   "metadata": {},
   "source": [
    "<p style=\"text-align:center;\">\n",
    "  <img src=\"img/tf-idf-formula.png\" alt=\"bm25\" width=\"300\">\n",
    "</p>"
   ]
  },
  {
   "cell_type": "code",
   "execution_count": 5,
   "id": "83e61158",
   "metadata": {},
   "outputs": [
    {
     "name": "stdout",
     "output_type": "stream",
     "text": [
      "TF-IDF index built in 0.2s, shape=(4772, 13078)\n"
     ]
    }
   ],
   "source": [
    "tfidf_vectorizer = TfidfVectorizer(\n",
    "    tokenizer=lambda x: x,  # pass pre-tokenised list\n",
    "    lowercase=False,\n",
    "    token_pattern=None,\n",
    "    min_df=2,\n",
    ")\n",
    "t0 = time.time()\n",
    "X_tfidf = tfidf_vectorizer.fit_transform(token_corpus)\n",
    "X_tfidf = normalize(X_tfidf) \n",
    "index_time_tfidf = time.time() - t0\n",
    "print(f\"TF-IDF index built in {index_time_tfidf:.1f}s, shape={X_tfidf.shape}\")"
   ]
  },
  {
   "cell_type": "code",
   "execution_count": 6,
   "id": "f6b7c7e0",
   "metadata": {},
   "outputs": [],
   "source": [
    "def tfidf_retrieve(query: str, k: int = 10) -> list[str]:\n",
    "    \"\"\"Return top-k page titles via TF-IDF cosine similarity.\"\"\"\n",
    "    q_vec = normalize(tfidf_vectorizer.transform([preprocess(query)]))\n",
    "    scores = (q_vec @ X_tfidf.T).toarray().ravel()\n",
    "    idx = np.argpartition(scores, -k)[-k:]\n",
    "    idx = idx[np.argsort(scores[idx])[::-1]]\n",
    "    return df_para_dedup[\"page_cf\"].iloc[idx].tolist()"
   ]
  },
  {
   "cell_type": "code",
   "execution_count": 7,
   "id": "2c901132",
   "metadata": {},
   "outputs": [
    {
     "name": "stdout",
     "output_type": "stream",
     "text": [
      "R@10=0.547  MRR=0.406  avg query 3.0 ms\n"
     ]
    }
   ],
   "source": [
    "t0 = time.time()\n",
    "tfidf_scores = eval_retriever(tfidf_retrieve, df_q_sc, k=10)\n",
    "dt = (time.time() - t0) / len(df_q_sc)\n",
    "print(\n",
    "    f\"R@10={tfidf_scores['recall@k']:.3f}  \"\n",
    "    f\"MRR={tfidf_scores['mrr']:.3f}  \"\n",
    "    f\"avg query {dt*1000:.1f} ms\"\n",
    ")"
   ]
  },
  {
   "cell_type": "markdown",
   "id": "2cd884fe",
   "metadata": {},
   "source": [
    "## BM25"
   ]
  },
  {
   "cell_type": "markdown",
   "id": "ef0000d8",
   "metadata": {},
   "source": [
    "<p style=\"text-align:center;\">\n",
    "  <img src=\"img/bm25_flowchart.png\" alt=\"bm25\" width=\"500\">\n",
    "</p>"
   ]
  },
  {
   "cell_type": "code",
   "execution_count": 8,
   "id": "3907d2be",
   "metadata": {},
   "outputs": [
    {
     "name": "stdout",
     "output_type": "stream",
     "text": [
      "BM25 index built in 0.1s\n"
     ]
    }
   ],
   "source": [
    "t0 = time.time()\n",
    "bm25 = BM25Okapi(token_corpus)\n",
    "index_time_bm25 = time.time() - t0\n",
    "print(f\"BM25 index built in {index_time_bm25:.1f}s\")"
   ]
  },
  {
   "cell_type": "code",
   "execution_count": 9,
   "id": "bf631ae4",
   "metadata": {},
   "outputs": [],
   "source": [
    "def bm25_retrieve(query: str, k: int = 10) -> list[str]:\n",
    "    \"\"\"Return top-k page titles using BM25.\"\"\"\n",
    "    scores = bm25.get_scores(preprocess(query))\n",
    "    idx    = np.argpartition(scores, -k)[-k:]\n",
    "    idx    = idx[np.argsort(scores[idx])[::-1]]\n",
    "    return df_para_dedup[\"page_cf\"].iloc[idx].tolist()"
   ]
  },
  {
   "cell_type": "code",
   "execution_count": 10,
   "id": "f725f628",
   "metadata": {},
   "outputs": [
    {
     "name": "stdout",
     "output_type": "stream",
     "text": [
      "R@10=0.570  MRR=0.439 | avg query 8.5 ms\n"
     ]
    }
   ],
   "source": [
    "t0 = time.time()\n",
    "bm25_scores = eval_retriever(bm25_retrieve, df_q_sc, k=10)\n",
    "dt = (time.time() - t0) / len(df_q_sc)\n",
    "print(f\"R@10={bm25_scores['recall@k']:.3f}  MRR={bm25_scores['mrr']:.3f} | \"f\"avg query {dt*1000:.1f} ms\")"
   ]
  },
  {
   "cell_type": "markdown",
   "id": "d9dc3964",
   "metadata": {},
   "source": [
    "## PageRank"
   ]
  },
  {
   "cell_type": "code",
   "execution_count": 11,
   "id": "37e135bb",
   "metadata": {},
   "outputs": [],
   "source": [
    "from pathlib import Path\n",
    "import urllib.parse as ul\n",
    "import pickle, re\n",
    "from bs4 import BeautifulSoup\n",
    "import networkx as nx\n",
    "import matplotlib.pyplot as plt"
   ]
  },
  {
   "cell_type": "code",
   "execution_count": 12,
   "id": "b9fbae71",
   "metadata": {},
   "outputs": [],
   "source": [
    "CORPUS_DIR = Path(\"corpus/sc\")\n",
    "GRAPH_PATH = Path(\"graph_pagelevel.pkl\")\n",
    "PR_PATH    = Path(\"pagerank_pagelevel.pkl\")\n",
    "\n",
    "SKIP_NS   = (\"/wiki/File:\", \"/wiki/Category:\", \"/wiki/Special:\",\n",
    "             \"/wiki/Help:\", \"/wiki/Talk:\", \"/wiki/Template:\")\n",
    "HREF_RE   = re.compile(r\"^/wiki/[^:#]*$\")"
   ]
  },
  {
   "cell_type": "code",
   "execution_count": 13,
   "id": "70f7ed9c",
   "metadata": {},
   "outputs": [],
   "source": [
    "def iter_html_files(dir_: Path):\n",
    "    \"\"\"Yield every *.html under dir_.\"\"\"\n",
    "    yield from dir_.glob(\"*.html\")\n",
    "\n",
    "\n",
    "def slug_from_file(fp: Path) -> str:\n",
    "    \"\"\"Return Wiki slug after the first '_' (numeric prefix removed).\"\"\"\n",
    "    return fp.stem.split(\"_\", 1)[1]\n",
    "\n",
    "\n",
    "def title_from_slug(slug: str) -> str:\n",
    "    return ul.unquote(slug).replace(\"_\", \" \")\n",
    "\n",
    "\n",
    "def extract_link_slugs(html: str) -> set[str]:\n",
    "    \"\"\"Return set of Wiki slugs linked inside *html*.\"\"\"\n",
    "    soup = BeautifulSoup(html, \"lxml\")\n",
    "    out = set()\n",
    "    for a in soup.select(\"a[href]\"):\n",
    "        href = a[\"href\"]\n",
    "        if href.startswith(SKIP_NS) or not HREF_RE.match(href):\n",
    "            continue\n",
    "        out.add(href.split(\"/wiki/\")[1])\n",
    "    return out"
   ]
  },
  {
   "cell_type": "code",
   "execution_count": 14,
   "id": "636b7e45",
   "metadata": {},
   "outputs": [],
   "source": [
    "def build_graph(corpus_dir: Path) -> nx.DiGraph:\n",
    "    \"\"\"Return DiGraph where each node is a *page* (aggregates its files).\"\"\"\n",
    "    # 1) group files by page\n",
    "    page2files = {}\n",
    "    for fp in iter_html_files(corpus_dir):\n",
    "        slug  = slug_from_file(fp)\n",
    "        title = title_from_slug(slug)\n",
    "        page2files.setdefault(title, []).append(fp)\n",
    "\n",
    "    # 2) build graph\n",
    "    g = nx.DiGraph()\n",
    "    g.add_nodes_from(page2files)          # all pages, even isolated\n",
    "\n",
    "    for src, files in page2files.items():\n",
    "        linked_slugs = set()\n",
    "        for fp in files:\n",
    "            html = fp.read_text(encoding=\"utf-8\", errors=\"ignore\")\n",
    "            linked_slugs |= extract_link_slugs(html)\n",
    "\n",
    "        for slug in linked_slugs:\n",
    "            dst = title_from_slug(slug)\n",
    "            if dst in g and dst != src:\n",
    "                g.add_edge(src, dst)\n",
    "\n",
    "    return g"
   ]
  },
  {
   "cell_type": "code",
   "execution_count": 15,
   "id": "d0e83695",
   "metadata": {},
   "outputs": [
    {
     "name": "stdout",
     "output_type": "stream",
     "text": [
      "Nodes: 981  |  Edges: 7,502\n"
     ]
    }
   ],
   "source": [
    "G = build_graph(CORPUS_DIR)\n",
    "print(f\"Nodes: {G.number_of_nodes():,}  |  Edges: {G.number_of_edges():,}\")\n",
    "\n",
    "PR = nx.pagerank(G)\n",
    "\n",
    "with open(GRAPH_PATH, \"wb\") as f:\n",
    "    pickle.dump(G, f)\n",
    "with open(PR_PATH, \"wb\") as f:\n",
    "    pickle.dump(PR, f)"
   ]
  },
  {
   "cell_type": "code",
   "execution_count": 16,
   "id": "c43ef642",
   "metadata": {},
   "outputs": [],
   "source": [
    "GRAPH_PATH = Path(\"graph_pagelevel.pkl\")\n",
    "PR_PATH    = Path(\"pagerank_pagelevel.pkl\")\n",
    "TITLE_COL  = \"page_cf\""
   ]
  },
  {
   "cell_type": "code",
   "execution_count": 17,
   "id": "7dc51a90",
   "metadata": {},
   "outputs": [
    {
     "data": {
      "image/png": "[encoded data removed]",
      "text/plain": [
       "<Figure size 900x500 with 1 Axes>"
      ]
     },
     "metadata": {},
     "output_type": "display_data"
    }
   ],
   "source": [
    "import pickle, networkx as nx, matplotlib.pyplot as plt\n",
    "from pathlib import Path\n",
    "from itertools import count\n",
    "\n",
    "# ── load ───────────────────────────────────────────────────────────────\n",
    "G  = pickle.load(open(\"graph_pagelevel.pkl\", \"rb\"))\n",
    "PR = pickle.load(open(\"pagerank_pagelevel.pkl\", \"rb\"))\n",
    "\n",
    "TOP_N      = 20\n",
    "top_nodes  = sorted(PR, key=PR.get, reverse=True)[:TOP_N]\n",
    "H          = G.subgraph(top_nodes).copy()\n",
    "\n",
    "sub_pos = {}\n",
    "x_shift = 0\n",
    "for comp_id, comp in enumerate(nx.connected_components(H.to_undirected())):\n",
    "    sub = H.subgraph(comp)\n",
    "    # kamada-kawai inside the component\n",
    "    pos_sub = nx.kamada_kawai_layout(sub)\n",
    "    # shift component on x-axis so clusters don’t overlap\n",
    "    for n, (x, y) in pos_sub.items():\n",
    "        sub_pos[n] = (x + x_shift, y)\n",
    "    # space out for next component\n",
    "    x_shift += 2.5\n",
    "\n",
    "fig, ax = plt.subplots(figsize=(9, 5))\n",
    "nx.draw_networkx_edges(H, sub_pos, alpha=0.3, width=0.8, arrows=False)\n",
    "nx.draw_networkx_nodes(\n",
    "    H, sub_pos,\n",
    "    node_size=[6000 * PR[n] for n in H],\n",
    "    linewidths=0.7,\n",
    ")\n",
    "# label offset: small vertical shift\n",
    "for n, (x, y) in sub_pos.items():\n",
    "    ax.text(x, y + 0.05, n, fontsize=8, ha=\"center\")\n",
    "\n",
    "ax.set_title(f\"Top-{TOP_N} PageRank pages – component aware\")\n",
    "ax.axis(\"off\")\n",
    "plt.tight_layout()\n",
    "plt.show()"
   ]
  },
  {
   "cell_type": "markdown",
   "id": "db733c44",
   "metadata": {},
   "source": [
    "## Embedding Statici"
   ]
  },
  {
   "cell_type": "markdown",
   "id": "405d02cf",
   "metadata": {},
   "source": [
    "<p style=\"text-align:center;\">\n",
    "  <img src=\"img/word2_vec.png\" alt=\"bm25\" width=\"700\">\n",
    "</p>"
   ]
  },
  {
   "cell_type": "code",
   "execution_count": 18,
   "id": "21954d64",
   "metadata": {},
   "outputs": [],
   "source": [
    "import math\n",
    "from gensim.models.fasttext import load_facebook_vectors\n",
    "from collections import Counter\n",
    "import faiss"
   ]
  },
  {
   "cell_type": "code",
   "execution_count": 19,
   "id": "a3fc6775",
   "metadata": {},
   "outputs": [],
   "source": [
    "# mkdir -p models\n",
    "# wget -P models https://dl.fbaipublicfiles.com/fasttext/vectors-crawl/cc.sc.300.bin.gz\n",
    "# gunzip models/cc.sc.300.bin.gz\n",
    "\n",
    "# mkdir -p models\n",
    "# wget -P models https://dl.fbaipublicfiles.com/fasttext/vectors-crawl/cc.en.300.bin.gz\n",
    "# gunzip models/cc.en.300.bin.gz"
   ]
  },
  {
   "cell_type": "code",
   "execution_count": 20,
   "id": "6d1ef0ef",
   "metadata": {},
   "outputs": [],
   "source": [
    "FT_PATH = \"models/cc.sc.300.bin\"\n",
    "ft = load_facebook_vectors(FT_PATH)\n",
    "EMB_DIM = ft.vector_size"
   ]
  },
  {
   "cell_type": "code",
   "execution_count": 21,
   "id": "6fc77c41",
   "metadata": {},
   "outputs": [],
   "source": [
    "df_counts = Counter()\n",
    "for toks in token_corpus:\n",
    "    df_counts.update(set(toks))\n",
    "N_DOCS = len(token_corpus)\n",
    "\n",
    "def idf(token: str) -> float:\n",
    "    return math.log((N_DOCS + 1) / (df_counts.get(token, 0) + 1))"
   ]
  },
  {
   "cell_type": "code",
   "execution_count": 22,
   "id": "ad19058b",
   "metadata": {},
   "outputs": [],
   "source": [
    "def sent_vec(tokens: list[str]) -> np.ndarray:\n",
    "    \"\"\"Average FastText vectors (IDF-weighted).\"\"\"\n",
    "    vsum, wsum = np.zeros(EMB_DIM), 0.0\n",
    "    for tok in tokens:\n",
    "        vec = ft.get_vector(tok)        # always returns vector (sub-word)\n",
    "        w = idf(tok)\n",
    "        vsum += vec * w\n",
    "        wsum += w\n",
    "    return vsum / wsum if wsum else vsum"
   ]
  },
  {
   "cell_type": "code",
   "execution_count": 23,
   "id": "96805d4e",
   "metadata": {},
   "outputs": [
    {
     "name": "stderr",
     "output_type": "stream",
     "text": [
      "100%|██████████| 4772/4772 [00:02<00:00, 2383.97it/s]\n"
     ]
    }
   ],
   "source": [
    "para_vecs = np.vstack([sent_vec(t) for t in tqdm(token_corpus)])\n",
    "para_vecs = np.ascontiguousarray(para_vecs, dtype=np.float32)\n",
    "faiss.normalize_L2(para_vecs)\n",
    "\n",
    "index_ft = faiss.IndexFlatIP(EMB_DIM)\n",
    "index_ft.add(para_vecs)"
   ]
  },
  {
   "cell_type": "code",
   "execution_count": 24,
   "id": "44f1c30b",
   "metadata": {},
   "outputs": [],
   "source": [
    "def dense_retrieve(query: str, k: int = 10) -> list[str]:\n",
    "    toks = preprocess(query)\n",
    "    q_vec = sent_vec(toks).astype(np.float32)\n",
    "    q_vec = np.ascontiguousarray(q_vec.reshape(1, -1))\n",
    "    faiss.normalize_L2(q_vec)\n",
    "    _, I = index_ft.search(q_vec, k)\n",
    "    return df_para_dedup[\"page_cf\"].iloc[I[0]].tolist()"
   ]
  },
  {
   "cell_type": "code",
   "execution_count": 25,
   "id": "792aa0b8",
   "metadata": {},
   "outputs": [
    {
     "name": "stdout",
     "output_type": "stream",
     "text": [
      "R@10=0.263  MRR=0.210 | avg query 4.6 ms\n"
     ]
    }
   ],
   "source": [
    "t0 = time.time()\n",
    "dense_scores = eval_retriever(dense_retrieve, df_q_sc, k=10)\n",
    "dt = (time.time() - t0) / len(df_q_sc)\n",
    "print(f\"R@10={dense_scores['recall@k']:.3f}  MRR={dense_scores['mrr']:.3f} | \"f\"avg query {dt*1000:.1f} ms\")"
   ]
  },
  {
   "cell_type": "markdown",
   "id": "fa029712",
   "metadata": {},
   "source": [
    "## Sentence-Bert"
   ]
  },
  {
   "cell_type": "markdown",
   "id": "9d8df3d7",
   "metadata": {},
   "source": [
    "<p style=\"text-align:center;\">\n",
    "  <img src=\"img/Bert_.PNG\" alt=\"bm25\" width=\"250\">\n",
    "</p>"
   ]
  },
  {
   "cell_type": "code",
   "execution_count": 26,
   "id": "4bf47b65",
   "metadata": {},
   "outputs": [
    {
     "name": "stderr",
     "output_type": "stream",
     "text": [
      "/home/matmat/sardu/venv/lib/python3.10/site-packages/tqdm/auto.py:21: TqdmWarning: IProgress not found. Please update jupyter and ipywidgets. See https://ipywidgets.readthedocs.io/en/stable/user_install.html\n",
      "  from .autonotebook import tqdm as notebook_tqdm\n"
     ]
    }
   ],
   "source": [
    "from pathlib import Path\n",
    "from sentence_transformers import SentenceTransformer\n",
    "import time\n",
    "import numpy as np\n",
    "import faiss\n",
    "import joblib"
   ]
  },
  {
   "cell_type": "code",
   "execution_count": 27,
   "id": "d7406a1b",
   "metadata": {},
   "outputs": [],
   "source": [
    "INDEX_DIR = Path(\"indices\")\n",
    "INDEX_DIR.mkdir(exist_ok=True)\n",
    "model_name = \"sentence-transformers/paraphrase-multilingual-MiniLM-L12-v2\"\n",
    "model = SentenceTransformer(model_name)"
   ]
  },
  {
   "cell_type": "code",
   "execution_count": 28,
   "id": "bbccbe59",
   "metadata": {},
   "outputs": [
    {
     "name": "stderr",
     "output_type": "stream",
     "text": [
      "Batches: 100%|██████████| 75/75 [00:20<00:00,  3.70it/s]"
     ]
    },
    {
     "name": "stdout",
     "output_type": "stream",
     "text": [
      "Embedding done in 0.3 min\n"
     ]
    },
    {
     "name": "stderr",
     "output_type": "stream",
     "text": [
      "\n"
     ]
    }
   ],
   "source": [
    "t0 = time.time()\n",
    "para_vecs = model.encode(\n",
    "    corpus,\n",
    "    batch_size=64,\n",
    "    show_progress_bar=True,\n",
    "    normalize_embeddings=True,   # L2-normalizes\n",
    "    convert_to_numpy=True\n",
    ").astype(\"float32\")\n",
    "print(f\"Embedding done in {(time.time() - t0) / 60:.1f} min\")"
   ]
  },
  {
   "cell_type": "code",
   "execution_count": 29,
   "id": "236a7906",
   "metadata": {},
   "outputs": [
    {
     "name": "stdout",
     "output_type": "stream",
     "text": [
      "Index size: 4772 vectors\n"
     ]
    }
   ],
   "source": [
    "DIM = para_vecs.shape[1]\n",
    "index_sbert = faiss.IndexFlatIP(DIM)\n",
    "index_sbert.add(para_vecs)\n",
    "print(f\"Index size: {index_sbert.ntotal} vectors\")"
   ]
  },
  {
   "cell_type": "code",
   "execution_count": 30,
   "id": "44b1273d",
   "metadata": {},
   "outputs": [],
   "source": [
    "def sbert_retrieve(query: str, k: int = 10) -> list[str]:\n",
    "    q_vec = model.encode(\n",
    "        [query],\n",
    "        normalize_embeddings=True,\n",
    "        convert_to_numpy=True\n",
    "    ).astype(\"float32\")\n",
    "    _, indices = index_sbert.search(q_vec, k)\n",
    "    return df_para_dedup.iloc[indices[0]][\"page_cf\"].tolist()"
   ]
  },
  {
   "cell_type": "code",
   "execution_count": 31,
   "id": "519d3042",
   "metadata": {},
   "outputs": [
    {
     "name": "stdout",
     "output_type": "stream",
     "text": [
      "R@10=0.511  MRR=0.403 | avg query 17.0 ms\n"
     ]
    }
   ],
   "source": [
    "t0 = time.time()\n",
    "sbert_scores = eval_retriever(sbert_retrieve, df_q_sc, k=10)\n",
    "dt = (time.time() - t0) / len(df_q_sc)\n",
    "print(f\"R@10={sbert_scores['recall@k']:.3f}  MRR={sbert_scores['mrr']:.3f} | \"f\"avg query {dt*1000:.1f} ms\")"
   ]
  },
  {
   "cell_type": "code",
   "execution_count": 32,
   "id": "2ed5fd1f",
   "metadata": {},
   "outputs": [
    {
     "name": "stdout",
     "output_type": "stream",
     "text": [
      "✅ SBERT index and metadata saved in /home/matmat/sardu/indices\n"
     ]
    }
   ],
   "source": [
    "faiss.write_index(index_sbert, str(INDEX_DIR / \"sbert.index\"))\n",
    "\n",
    "meta = df_para[[\"page_cf\", \"page_title\", \"text\"]].to_dict(\"records\")\n",
    "joblib.dump(meta, INDEX_DIR / \"meta_sbert.pkl\")\n",
    "\n",
    "print(\"✅ SBERT index and metadata saved in\", INDEX_DIR.resolve())"
   ]
  },
  {
   "cell_type": "code",
   "execution_count": 33,
   "id": "a1003235",
   "metadata": {},
   "outputs": [],
   "source": [
    "import faiss, numpy as np, joblib, pandas as pd\n",
    "from sentence_transformers import SentenceTransformer\n",
    "\n",
    "INDEX_DIR = Path(\"indices\")\n",
    "\n",
    "index_sbert = faiss.read_index(str(INDEX_DIR / \"sbert.index\"))\n",
    "meta        = joblib.load(INDEX_DIR / \"meta_sbert.pkl\")\n",
    "model       = SentenceTransformer(model_name)\n",
    "\n",
    "def embed_q(text: str):\n",
    "    return model.encode([text], normalize_embeddings=True).astype(\"float32\")"
   ]
  },
  {
   "cell_type": "code",
   "execution_count": 34,
   "id": "2a68e632",
   "metadata": {},
   "outputs": [
    {
     "data": {
      "text/html": [
       "<div>\n",
       "<style scoped>\n",
       "    .dataframe tbody tr th:only-of-type {\n",
       "        vertical-align: middle;\n",
       "    }\n",
       "\n",
       "    .dataframe tbody tr th {\n",
       "        vertical-align: top;\n",
       "    }\n",
       "\n",
       "    .dataframe thead th {\n",
       "        text-align: right;\n",
       "    }\n",
       "</style>\n",
       "<table border=\"1\" class=\"dataframe\">\n",
       "  <thead>\n",
       "    <tr style=\"text-align: right;\">\n",
       "      <th></th>\n",
       "      <th>page_cf</th>\n",
       "      <th>page_title</th>\n",
       "      <th>text</th>\n",
       "    </tr>\n",
       "  </thead>\n",
       "  <tbody>\n",
       "    <tr>\n",
       "      <th>1072</th>\n",
       "      <td>gherra de su golfu</td>\n",
       "      <td>Gherra de su Golfu</td>\n",
       "      <td>A pagas oras de s'invasione de su 2 austu 1990...</td>\n",
       "    </tr>\n",
       "    <tr>\n",
       "      <th>1069</th>\n",
       "      <td>gherra de su golfu</td>\n",
       "      <td>Gherra de su Golfu</td>\n",
       "      <td>Sa prima gherra de su Golfu est istada fintzas...</td>\n",
       "    </tr>\n",
       "    <tr>\n",
       "      <th>1085</th>\n",
       "      <td>gherra de su golfu</td>\n",
       "      <td>Gherra de su Golfu</td>\n",
       "      <td>A sas 3, deghe stealth F-117 Nighthawk in suta...</td>\n",
       "    </tr>\n",
       "  </tbody>\n",
       "</table>\n",
       "</div>"
      ],
      "text/plain": [
       "                 page_cf          page_title  \\\n",
       "1072  gherra de su golfu  Gherra de su Golfu   \n",
       "1069  gherra de su golfu  Gherra de su Golfu   \n",
       "1085  gherra de su golfu  Gherra de su Golfu   \n",
       "\n",
       "                                                   text  \n",
       "1072  A pagas oras de s'invasione de su 2 austu 1990...  \n",
       "1069  Sa prima gherra de su Golfu est istada fintzas...  \n",
       "1085  A sas 3, deghe stealth F-117 Nighthawk in suta...  "
      ]
     },
     "execution_count": 34,
     "metadata": {},
     "output_type": "execute_result"
    }
   ],
   "source": [
    "query_vec = embed_q(\"cales mare si b'hat a circundare Dubai\")\n",
    "_, hits = index_sbert.search(query_vec.reshape(1, -1), 3)\n",
    "pd.DataFrame(meta).iloc[hits[0]]"
   ]
  },
  {
   "cell_type": "markdown",
   "id": "6722386c",
   "metadata": {},
   "source": [
    "## Bge-m3"
   ]
  },
  {
   "cell_type": "markdown",
   "id": "40a1d497",
   "metadata": {},
   "source": [
    "<p style=\"text-align:center;\">\n",
    "  <img src=\"img/bge_ar.png\" alt=\"bm25\" width=\"450\">\n",
    "</p>"
   ]
  },
  {
   "cell_type": "code",
   "execution_count": 35,
   "id": "4858dc66",
   "metadata": {},
   "outputs": [],
   "source": [
    "from pathlib import Path\n",
    "import time, numpy as np, pandas as pd, faiss, joblib\n",
    "from tqdm import tqdm\n",
    "from FlagEmbedding import BGEM3FlagModel\n",
    "\n",
    "INDEX_DIR = Path(\"indices\")"
   ]
  },
  {
   "cell_type": "code",
   "execution_count": 36,
   "id": "11358158",
   "metadata": {},
   "outputs": [
    {
     "name": "stderr",
     "output_type": "stream",
     "text": [
      "Fetching 30 files: 100%|██████████| 30/30 [00:00<00:00, 116185.71it/s]\n"
     ]
    }
   ],
   "source": [
    "model = BGEM3FlagModel(\"BAAI/bge-m3\", device=\"cuda\", use_fp16=True)\n",
    "BATCH_SIZE = 16"
   ]
  },
  {
   "cell_type": "code",
   "execution_count": 37,
   "id": "50daa219",
   "metadata": {},
   "outputs": [
    {
     "name": "stderr",
     "output_type": "stream",
     "text": [
      "pre tokenize: 100%|██████████| 299/299 [00:00<00:00, 357.92it/s]\n",
      "You're using a XLMRobertaTokenizerFast tokenizer. Please note that with a fast tokenizer, using the `__call__` method is faster than using a method to encode the text followed by a call to the `pad` method to get a padded encoding.\n",
      "Inference Embeddings: 100%|██████████| 299/299 [06:05<00:00,  1.22s/it]"
     ]
    },
    {
     "name": "stdout",
     "output_type": "stream",
     "text": [
      "Embedding done in 6.4 min\n"
     ]
    },
    {
     "name": "stderr",
     "output_type": "stream",
     "text": [
      "\n"
     ]
    }
   ],
   "source": [
    "t0 = time.time()\n",
    "embeddings = model.encode(\n",
    "    corpus.tolist(),\n",
    "    batch_size=BATCH_SIZE,\n",
    "    convert_to_numpy=True,\n",
    ")['dense_vecs'].astype(\"float32\")\n",
    "print(f\"Embedding done in {(time.time() - t0)/60:.1f} min\")"
   ]
  },
  {
   "cell_type": "code",
   "execution_count": 38,
   "id": "b6abf9d6",
   "metadata": {},
   "outputs": [
    {
     "name": "stdout",
     "output_type": "stream",
     "text": [
      "Index size: 4772 vectors\n"
     ]
    }
   ],
   "source": [
    "DIM = embeddings.shape[1]\n",
    "index_bge = faiss.IndexFlatIP(DIM)\n",
    "index_bge.add(embeddings)\n",
    "print(f\"Index size: {index_bge.ntotal} vectors\")"
   ]
  },
  {
   "cell_type": "code",
   "execution_count": 39,
   "id": "22e55a61",
   "metadata": {},
   "outputs": [],
   "source": [
    "def bge_m3_retrieve(query: str, k: int = 10) -> list[str]:\n",
    "    q_vec = model.encode(\n",
    "        [query],\n",
    "        convert_to_numpy=True\n",
    "    )['dense_vecs'].astype(\"float32\")\n",
    "    _, indices = index_bge.search(q_vec, k)\n",
    "    return df_para_dedup.iloc[indices[0]][\"page_cf\"].tolist()"
   ]
  },
  {
   "cell_type": "code",
   "execution_count": 40,
   "id": "f6b6e227",
   "metadata": {},
   "outputs": [
    {
     "name": "stdout",
     "output_type": "stream",
     "text": [
      "R@10=0.854  MRR=0.713 | avg query 80.3 ms\n"
     ]
    }
   ],
   "source": [
    "t0 = time.time()\n",
    "bge_scores = eval_retriever(bge_m3_retrieve, df_q_sc, k=10)\n",
    "dt = (time.time() - t0) / len(df_q_sc)\n",
    "print(f\"R@10={bge_scores['recall@k']:.3f}  MRR={bge_scores['mrr']:.3f} | \"f\"avg query {dt*1000:.1f} ms\")"
   ]
  },
  {
   "cell_type": "code",
   "execution_count": 52,
   "id": "304a8e34",
   "metadata": {},
   "outputs": [
    {
     "name": "stdout",
     "output_type": "stream",
     "text": [
      "✅ BGE index and metadata saved in /home/matmat/sardu/indices\n"
     ]
    }
   ],
   "source": [
    "faiss.write_index(index_bge, str(INDEX_DIR / \"bge.index\"))\n",
    "\n",
    "meta = df_para[[\"page_cf\", \"page_title\", \"text\"]].to_dict(\"records\")\n",
    "joblib.dump(meta, INDEX_DIR / \"meta_bge.pkl\")\n",
    "\n",
    "print(\"✅ BGE index and metadata saved in\", INDEX_DIR.resolve())"
   ]
  },
  {
   "cell_type": "code",
   "execution_count": 53,
   "id": "81c0b900",
   "metadata": {},
   "outputs": [
    {
     "name": "stderr",
     "output_type": "stream",
     "text": [
      "Fetching 30 files: 100%|██████████| 30/30 [00:00<00:00, 66859.26it/s]\n"
     ]
    }
   ],
   "source": [
    "import faiss, numpy as np, joblib, pandas as pd\n",
    "from FlagEmbedding import BGEM3FlagModel\n",
    "\n",
    "INDEX_DIR = Path(\"indices\")\n",
    "\n",
    "index_bge = faiss.read_index(str(INDEX_DIR / \"bge.index\"))\n",
    "meta        = joblib.load(INDEX_DIR / \"meta_bge.pkl\")\n",
    "model       = BGEM3FlagModel(\"BAAI/bge-m3\", device=\"cuda\", use_fp16=True)\n",
    "\n",
    "def embed_q(text: str):\n",
    "    return model.encode([text], convert_to_numpy=True)['dense_vecs'].astype(\"float32\")"
   ]
  },
  {
   "cell_type": "code",
   "execution_count": null,
   "id": "fb7a0846",
   "metadata": {},
   "outputs": [
    {
     "data": {
      "text/html": [
       "<div>\n",
       "<style scoped>\n",
       "    .dataframe tbody tr th:only-of-type {\n",
       "        vertical-align: middle;\n",
       "    }\n",
       "\n",
       "    .dataframe tbody tr th {\n",
       "        vertical-align: top;\n",
       "    }\n",
       "\n",
       "    .dataframe thead th {\n",
       "        text-align: right;\n",
       "    }\n",
       "</style>\n",
       "<table border=\"1\" class=\"dataframe\">\n",
       "  <thead>\n",
       "    <tr style=\"text-align: right;\">\n",
       "      <th></th>\n",
       "      <th>page_cf</th>\n",
       "      <th>page_title</th>\n",
       "      <th>text</th>\n",
       "    </tr>\n",
       "  </thead>\n",
       "  <tbody>\n",
       "    <tr>\n",
       "      <th>2385</th>\n",
       "      <td>giapone</td>\n",
       "      <td>Giapone</td>\n",
       "      <td>Coordinadas : 35°N 136°E ﻿ / ﻿ 35°N 136°E 35; 136</td>\n",
       "    </tr>\n",
       "    <tr>\n",
       "      <th>233</th>\n",
       "      <td>acòrdios de münchen</td>\n",
       "      <td>Acòrdios de München</td>\n",
       "      <td>Segundu sa retòrica de sa propaganda nazista ,...</td>\n",
       "    </tr>\n",
       "    <tr>\n",
       "      <th>2861</th>\n",
       "      <td>su sennore de sos aneddos</td>\n",
       "      <td>Su Sennore de sos Aneddos</td>\n",
       "      <td>Tolkien at fintzas imbentadu pro su contu duas...</td>\n",
       "    </tr>\n",
       "  </tbody>\n",
       "</table>\n",
       "</div>"
      ],
      "text/plain": [
       "                        page_cf                 page_title  \\\n",
       "2385                    giapone                    Giapone   \n",
       "233         acòrdios de münchen        Acòrdios de München   \n",
       "2861  su sennore de sos aneddos  Su Sennore de sos Aneddos   \n",
       "\n",
       "                                                   text  \n",
       "2385  Coordinadas : 35°N 136°E ﻿ / ﻿ 35°N 136°E 35; 136  \n",
       "233   Segundu sa retòrica de sa propaganda nazista ,...  \n",
       "2861  Tolkien at fintzas imbentadu pro su contu duas...  "
      ]
     },
     "execution_count": 59,
     "metadata": {},
     "output_type": "execute_result"
    }
   ],
   "source": [
    "query_vec = embed_q(\"cali esti su logu prus abbaxiu de sa Terra\")\n",
    "_, hits = index_bge.search(query_vec.reshape(1, -1), 3) \n",
    "pd.DataFrame(meta).iloc[hits[0]]"
   ]
  },
  {
   "cell_type": "markdown",
   "id": "21872f1a",
   "metadata": {},
   "source": [
    "## Reranker"
   ]
  },
  {
   "cell_type": "markdown",
   "id": "e4dcc0e2",
   "metadata": {},
   "source": [
    "<p style=\"text-align:center;\">\n",
    "  <img src=\"img/bi.PNG\" alt=\"bm25\" width=\"450\">\n",
    "</p>"
   ]
  },
  {
   "cell_type": "code",
   "execution_count": 44,
   "id": "fa27ec3e",
   "metadata": {},
   "outputs": [],
   "source": [
    "from pathlib import Path\n",
    "import faiss, joblib, numpy as np\n",
    "from FlagEmbedding import BGEM3FlagModel, FlagReranker\n",
    "import pandas as pd\n",
    "import torch, gc\n",
    "\n",
    "INDEX_DIR = Path(\"indices\")"
   ]
  },
  {
   "cell_type": "code",
   "execution_count": 45,
   "id": "03cd7eb6",
   "metadata": {},
   "outputs": [
    {
     "name": "stderr",
     "output_type": "stream",
     "text": [
      "Fetching 30 files: 100%|██████████| 30/30 [00:00<00:00, 83220.32it/s]\n"
     ]
    }
   ],
   "source": [
    "index  = faiss.read_index(str(INDEX_DIR / \"bge.index\"))\n",
    "meta   = joblib.load(INDEX_DIR / \"meta_bge.pkl\")  # list[dict]\n",
    "df_meta = pd.DataFrame(meta)                      # quick look-up\n",
    "\n",
    "encoder = BGEM3FlagModel(\n",
    "    \"BAAI/bge-m3\",\n",
    "    device=\"cuda\",\n",
    "    use_fp16=True,       # fp16 inutile su CPU\n",
    ")\n",
    "\n",
    "reranker = FlagReranker(\n",
    "    \"BAAI/bge-reranker-v2-m3\",\n",
    "    device=\"cuda\" if torch.cuda.is_available() else \"cpu\",\n",
    "    use_fp16=True,\n",
    ")"
   ]
  },
  {
   "cell_type": "code",
   "execution_count": 46,
   "id": "6f63b05d",
   "metadata": {},
   "outputs": [],
   "source": [
    "def bge_m3_rr_retrieve(query: str, k: int = 10, n_probe: int = 50,  rr_bs: int = 64) -> list[str]:\n",
    "    q_vec = encoder.encode([query], convert_to_numpy=True)[\"dense_vecs\"]\\\n",
    "                  .astype(np.float32)\n",
    "    _, idx = index.search(q_vec, n_probe)\n",
    "\n",
    "    cand_df = df_meta.iloc[idx[0]]\n",
    "    pairs = [[query, t] for t in cand_df[\"text\"].tolist()]\n",
    "\n",
    "    scores = reranker.compute_score(pairs,\n",
    "                                    batch_size=rr_bs,\n",
    "                                    normalize=True)\n",
    "\n",
    "    top = np.argsort(scores)[::-1][:k]\n",
    "    return cand_df.iloc[top][\"page_cf\"].tolist()"
   ]
  },
  {
   "cell_type": "code",
   "execution_count": 47,
   "id": "1535d196",
   "metadata": {},
   "outputs": [],
   "source": [
    "# t0 = time.time()\n",
    "# rbge_scores = eval_retriever(bge_m3_rr_retrieve, df_q_sc, k=10)\n",
    "# dt = (time.time() - t0) / len(df_q_sc)\n",
    "# print(f\"R@10={rbge_scores['recall@k']:.3f}  MRR={rbge_scores['mrr']:.3f} | \"f\"avg query {dt*1000:.1f} ms\")"
   ]
  },
  {
   "cell_type": "markdown",
   "id": "617de73c",
   "metadata": {},
   "source": [
    "## Rag"
   ]
  },
  {
   "cell_type": "markdown",
   "id": "4a0f2b9c",
   "metadata": {},
   "source": [
    "<p style=\"text-align:center;\">\n",
    "  <img src=\"img/rag.png\" alt=\"bm25\" width=\"450\">\n",
    "</p>"
   ]
  },
  {
   "cell_type": "code",
   "execution_count": 60,
   "id": "5e3fcc51",
   "metadata": {},
   "outputs": [],
   "source": [
    "from openai import OpenAI\n",
    "KEY_FILE = Path(\".openai_key\")\n",
    "\n",
    "api_key = KEY_FILE.read_text().strip()\n",
    "client = OpenAI(api_key=api_key)"
   ]
  },
  {
   "cell_type": "code",
   "execution_count": null,
   "id": "3273acbf",
   "metadata": {},
   "outputs": [],
   "source": [
    "def _generate(question: str, context: str) -> str:\n",
    "    \"\"\"Generate an answer using OpenAI ChatCompletion.\"\"\"\n",
    "    messages = [\n",
    "        {\n",
    "            \"role\": \"system\",\n",
    "            \"content\": (\n",
    "                \"You are a concise, helpful assistant. \"\n",
    "                \"Answer using only the information in the context. \"\n",
    "                \"The user does not need to know that there is a context. \"\n",
    "                \"If unsure, say it \"\n",
    "                \"You must respond in Sardinian. \"\n",
    "            ),\n",
    "        },\n",
    "        {\n",
    "            \"role\": \"user\",\n",
    "            \"content\": f\"Context:\\n\\\"\\\"\\\"\\n{context}\\n\\\"\\\"\\\"\\n\\nQuestion: {question}\",\n",
    "        },\n",
    "    ]\n",
    "    resp = client.chat.completions.create(\n",
    "        model=\"gpt-4o-mini\",\n",
    "        messages=messages,\n",
    "        temperature=0.2,\n",
    "        max_tokens=512,\n",
    "    )\n",
    "    return resp.choices[0].message.content.strip()\n"
   ]
  },
  {
   "cell_type": "code",
   "execution_count": 62,
   "id": "dffffedc",
   "metadata": {},
   "outputs": [],
   "source": [
    "def answer_user_query(question: str, k: int = 3) -> str:\n",
    "    q_vec = embed_q(question)\n",
    "    _, hit_idx = index_bge.search(q_vec, k)       # shape (1, k)\n",
    "    texts = [meta[i][\"text\"] for i in hit_idx[0]]\n",
    "    context = \"\\n\\n---\\n\\n\".join(texts)\n",
    "    return _generate(question, context)"
   ]
  },
  {
   "cell_type": "code",
   "execution_count": 64,
   "id": "3c5c332c",
   "metadata": {},
   "outputs": [
    {
     "name": "stdout",
     "output_type": "stream",
     "text": [
      "Non so.\n"
     ]
    }
   ],
   "source": [
    "q = \"Qual è continente più a Sud della Terra\"\n",
    "print(answer_user_query(q))"
   ]
  },
  {
   "cell_type": "markdown",
   "id": "c268cc28",
   "metadata": {},
   "source": [
    "| Metodo     | Recall@10 | MRR     | Δ Recall vs BM25 | ms/it |\n",
    "|------------|-----------|---------|------------------|-------|\n",
    "| TFIDF      | 0.547     | 0.406   | – 0.023           | 3.9   |\n",
    "| BM25       | 0.570     | 0.439   | X                 | 10.0  |\n",
    "| FASTEXT    | 0.263     | 0.210   | – 0.307           | 4.2   |\n",
    "| SBERT      | 0.511     | 0.403   | – 0.059           | 19.2  |\n",
    "| **BGE-M3** | **0.854** | **0.713** | **+0.284**      | 84.6  |"
   ]
  },
  {
   "cell_type": "markdown",
   "id": "81570403",
   "metadata": {},
   "source": [
    "## Now..."
   ]
  },
  {
   "cell_type": "markdown",
   "id": "de91fb80",
   "metadata": {},
   "source": [
    "<p style=\"text-align:center;\">\n",
    "  <img src=\"img/bge_vs_all.png\" alt=\"bm25\" width=\"450\">\n",
    "</p>"
   ]
  },
  {
   "cell_type": "markdown",
   "id": "7254c283",
   "metadata": {},
   "source": [
    "| Modello                                 | Parametri (M) | Efficienza embedding    | nDCG\\@10 (BEIR) | Caratteristica distintiva                                          |\n",
    "| --------------------------------------- | ------------- | ----------------------- | --------------- | ------------------------------------------------------------------ |\n",
    "| Alibaba-NLP/gte-multilingual-base       | 305           | veloce                  | 51.1            | Encoder-only (contesto 8192, embedding elastico/sparso)            |\n",
    "| nomic-ai/nomic-embed-text-v2-moe        | 475 (305)          | media (MoE 8 esperti)   | 52.9            | Mixture-of-Experts (8 esperti) con embedding Matryoshka            |\n",
    "| Snowflake/snowflake-arctic-embed-l-v2.0 | 568           | veloce                  | 55.6            | BGE M3-RetroMAE (contesto 8192) con Matryoshka (compressione 128B) |\n",
    "| jinaai/jina-embeddings-v3               | 570           | media (multi-task LoRA) | 55.8            | Multi-task con LoRA e Matryoshka (dim. flessibile)                 |"
   ]
  }
 ],
 "metadata": {
  "kernelspec": {
   "display_name": "venv",
   "language": "python",
   "name": "python3"
  },
  "language_info": {
   "codemirror_mode": {
    "name": "ipython",
    "version": 3
   },
   "file_extension": ".py",
   "mimetype": "text/x-python",
   "name": "python",
   "nbconvert_exporter": "python",
   "pygments_lexer": "ipython3",
   "version": "3.10.12"
  }
 },
 "nbformat": 4,
 "nbformat_minor": 5
}
